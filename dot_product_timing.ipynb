{
 "cells": [
  {
   "cell_type": "markdown",
   "metadata": {},
   "source": [
    "# Which is Faster?\n",
    "## Timing Numpy v.s. Loop for A Dot Product"
   ]
  },
  {
   "cell_type": "markdown",
   "metadata": {},
   "source": [
    "In a Jupyter Notebook, some options to time a peice of code are:\n",
    "* Jupyter's built in magic \"time\" function, which times a single execution of a cell or line.\n",
    "* Jupyter's built in magic \"timeit\",  which times multiple executions of a cell or line and reports the average.\n",
    "* The \"timeit\" package, which can time a multiple executions of a function."
   ]
  },
  {
   "cell_type": "markdown",
   "metadata": {},
   "source": [
    "## Setup"
   ]
  },
  {
   "cell_type": "markdown",
   "metadata": {},
   "source": [
    "I'll use ```numpy``` to generate random vectors and will time its dot product function. I'll use ```timeit``` as an alternative to Jupyter's built in timers and will also use it to perfrom a more complete timing test. I'll use ```matplotlib``` to visualize the results."
   ]
  },
  {
   "cell_type": "code",
   "execution_count": 1,
   "metadata": {},
   "outputs": [],
   "source": [
    "# import packages\n",
    "\n",
    "import numpy as np\n",
    "from timeit import timeit\n",
    "import matplotlib.pyplot as plt"
   ]
  },
  {
   "cell_type": "markdown",
   "metadata": {},
   "source": [
    "I define a loop based dot product.\n"
   ]
  },
  {
   "cell_type": "code",
   "execution_count": 2,
   "metadata": {},
   "outputs": [],
   "source": [
    "def dot(A_arr, B_arr):\n",
    "    \n",
    "    \"\"\"\n",
    "    Takes two vectors (array-like) and returns thier dot product.\n",
    "    Uses only base python.\n",
    "    \"\"\"\n",
    "    \n",
    "    dot_product = 0\n",
    "    \n",
    "    for a, b in zip(A_arr, B_arr):\n",
    "        dot_product += a * b\n",
    "    \n",
    "    return dot_product"
   ]
  },
  {
   "cell_type": "markdown",
   "metadata": {},
   "source": [
    "I generate two vectors of size 1,000 as numpy arrays. I'll use these to time numpy's dot product. To be fair, I'll convert these to numpy arrays to lists when timing the loop-based method. (The loop based dot product will work on the numpy arrays, but I wrote the function with lists in mind.)"
   ]
  },
  {
   "cell_type": "code",
   "execution_count": 3,
   "metadata": {},
   "outputs": [],
   "source": [
    "# create the vectors\n",
    "\n",
    "# create the vectors as numpy arrays\n",
    "A = np.random.randn(10**3)\n",
    "B = np.random.randn(10**3)\n",
    "\n",
    "# copy the vectors as lists\n",
    "A_list = list(A)\n",
    "B_list = list(B)"
   ]
  },
  {
   "cell_type": "markdown",
   "metadata": {},
   "source": [
    "## Timing with Jupyter Magic"
   ]
  },
  {
   "cell_type": "markdown",
   "metadata": {},
   "source": [
    "### Line Magic"
   ]
  },
  {
   "cell_type": "markdown",
   "metadata": {},
   "source": [
    "Jupyter Magic's ```time``` function can be applied to a line by using ```%time``` on the line that is to be timed."
   ]
  },
  {
   "cell_type": "code",
   "execution_count": 4,
   "metadata": {},
   "outputs": [
    {
     "name": "stdout",
     "output_type": "stream",
     "text": [
      "CPU times: user 235 µs, sys: 0 ns, total: 235 µs\n",
      "Wall time: 241 µs\n"
     ]
    },
    {
     "data": {
      "text/plain": [
       "-31.81309826511848"
      ]
     },
     "execution_count": 4,
     "metadata": {},
     "output_type": "execute_result"
    }
   ],
   "source": [
    "# time one execution of the loop-based function with numpy arrays as inputs\n",
    "\n",
    "%time dot(A, B)"
   ]
  },
  {
   "cell_type": "code",
   "execution_count": 5,
   "metadata": {},
   "outputs": [
    {
     "name": "stdout",
     "output_type": "stream",
     "text": [
      "CPU times: user 146 µs, sys: 0 ns, total: 146 µs\n",
      "Wall time: 149 µs\n"
     ]
    },
    {
     "data": {
      "text/plain": [
       "-31.81309826511848"
      ]
     },
     "execution_count": 5,
     "metadata": {},
     "output_type": "execute_result"
    }
   ],
   "source": [
    "# time one execution of the loop-based function with lists as inputs\n",
    "\n",
    "%time dot(A_list, B_list)"
   ]
  },
  {
   "cell_type": "code",
   "execution_count": 6,
   "metadata": {},
   "outputs": [
    {
     "name": "stdout",
     "output_type": "stream",
     "text": [
      "CPU times: user 901 µs, sys: 483 µs, total: 1.38 ms\n",
      "Wall time: 666 µs\n"
     ]
    },
    {
     "data": {
      "text/plain": [
       "-31.81309826511848"
      ]
     },
     "execution_count": 6,
     "metadata": {},
     "output_type": "execute_result"
    }
   ],
   "source": [
    "# time one execution of numpy's function\n",
    "\n",
    "%time np.dot(A,B)"
   ]
  },
  {
   "cell_type": "markdown",
   "metadata": {},
   "source": [
    "The loop-based function and numpy's dot product give the same result, but numpy's function appears to be many times faster. On my computer, the loop based function appear to take about 130 &#956;s. From executing the cells multiple times on my computer, I get an idea of how long each opertation takes. Numpy's function takes about 30&#956;s. As an added note, using the loop-based function with the numpy arrays takes longer than using the same function with lists as inputs. On my computer, this takes about 70 &#956;s longer."
   ]
  },
  {
   "cell_type": "markdown",
   "metadata": {},
   "source": [
    "### Cell Magic"
   ]
  },
  {
   "cell_type": "markdown",
   "metadata": {},
   "source": [
    "I can also apply Jupyter's ```time``` function to a cell with ```%%time```. The \"```%%```\" tells Jupyter to apply the magic to the whole cell. With ```%%time``` and ```%%timeit```, the first line is taken as set up. The advantage to this is that I could time multiple lines of code without having to wrap them in a function. (Note: Cell magic must appear alone at the very begining of a cell.)"
   ]
  },
  {
   "cell_type": "code",
   "execution_count": 7,
   "metadata": {},
   "outputs": [
    {
     "name": "stdout",
     "output_type": "stream",
     "text": [
      "CPU times: user 344 µs, sys: 0 ns, total: 344 µs\n",
      "Wall time: 362 µs\n"
     ]
    }
   ],
   "source": [
    "%%time\n",
    "\n",
    "# timing a loop-based dot product without writing a function\n",
    "# use arrays as inputs\n",
    "\n",
    "dp = 0\n",
    "for e, f in zip(A,B):\n",
    "    dp += e * f    \n",
    "dp"
   ]
  },
  {
   "cell_type": "code",
   "execution_count": 8,
   "metadata": {},
   "outputs": [
    {
     "name": "stdout",
     "output_type": "stream",
     "text": [
      "CPU times: user 218 µs, sys: 1 µs, total: 219 µs\n",
      "Wall time: 222 µs\n"
     ]
    }
   ],
   "source": [
    "%%time\n",
    "\n",
    "# timing a loop-based dot product without writing a function\n",
    "# use lists as inputs\n",
    "\n",
    "dp = 0\n",
    "for e, f in zip(A_list,B_list):\n",
    "    dp += e * f    \n",
    "dp"
   ]
  },
  {
   "cell_type": "code",
   "execution_count": 9,
   "metadata": {},
   "outputs": [
    {
     "name": "stdout",
     "output_type": "stream",
     "text": [
      "CPU times: user 18 µs, sys: 3 µs, total: 21 µs\n",
      "Wall time: 24.1 µs\n"
     ]
    },
    {
     "data": {
      "text/plain": [
       "-31.81309826511848"
      ]
     },
     "execution_count": 9,
     "metadata": {},
     "output_type": "execute_result"
    }
   ],
   "source": [
    "%%time\n",
    "\n",
    "# timing numpy's built in function\n",
    "\n",
    "np.dot(A,B)"
   ]
  },
  {
   "cell_type": "markdown",
   "metadata": {},
   "source": [
    "Again, the loop-based function with numpy arrays as inputs take the longest and numpy's function takes the least time. Oddly, it seems that the times with cell magic are slightly longer than the times with line magic."
   ]
  },
  {
   "cell_type": "markdown",
   "metadata": {},
   "source": [
    "### Timing Multiple Executions"
   ]
  },
  {
   "cell_type": "markdown",
   "metadata": {},
   "source": [
    "A problem with timing each function only once is that the results are likely to vary. Sometimes a command will take shorter to run and other times it will take longer. A solution to this is to use Jupyter's ```timeit``` magic. This can be used as both cell magic and line magic, but I will only implement it as line magic."
   ]
  },
  {
   "cell_type": "code",
   "execution_count": 10,
   "metadata": {},
   "outputs": [
    {
     "name": "stdout",
     "output_type": "stream",
     "text": [
      "236 µs ± 21.8 µs per loop (mean ± std. dev. of 7 runs, 10 loops each)\n"
     ]
    }
   ],
   "source": [
    "# find the average of 10 runs of the loop-based dot product function\n",
    "# use arrays as inputs\n",
    "\n",
    "%timeit -n 10 dot(A, B)"
   ]
  },
  {
   "cell_type": "code",
   "execution_count": 11,
   "metadata": {},
   "outputs": [
    {
     "name": "stdout",
     "output_type": "stream",
     "text": [
      "178 µs ± 56 µs per loop (mean ± std. dev. of 7 runs, 10 loops each)\n"
     ]
    }
   ],
   "source": [
    "# find the average of 10 runs of the loop-based dot product function\n",
    "# use lists as inputs\n",
    "\n",
    "%timeit -n 10 dot(A_list, B_list) "
   ]
  },
  {
   "cell_type": "code",
   "execution_count": 12,
   "metadata": {},
   "outputs": [
    {
     "name": "stdout",
     "output_type": "stream",
     "text": [
      "The slowest run took 26.46 times longer than the fastest. This could mean that an intermediate result is being cached.\n",
      "4.69 µs ± 5.42 µs per loop (mean ± std. dev. of 7 runs, 10 loops each)\n"
     ]
    }
   ],
   "source": [
    "# find average of 10 runs of numpy's dot product\n",
    "\n",
    "%timeit -n 10 np.dot(A,B)"
   ]
  },
  {
   "cell_type": "markdown",
   "metadata": {},
   "source": [
    "We get the same order of results: the loop-based function on numpy arrays is the slowest, the looped-based function on lists in in the middle, while numpy's function is the fastest. Over multiple executions of the cells, on my computer, I see the average times are about 200 &#956;s, 140 &#956;s and  12 &#956;s respectivly.\n",
    "\n",
    "The result for numpy's fuction seems suspiciously fast. When I time a single execution of it, I get a result around 30 &#956;s. However, when I run it multiple times and find the average, I get a much faster time. Most likely, the results are being cached. Luckily, Jupyter give us a warning like:\n",
    "<br><br>```The slowest run took 115.01 times longer than the fastest. This could mean that an intermediate result is being cached.```"
   ]
  },
  {
   "cell_type": "markdown",
   "metadata": {},
   "source": [
    "This issue can be solved using by using the ```timeit``` package."
   ]
  },
  {
   "cell_type": "markdown",
   "metadata": {},
   "source": [
    "## Timing with timeit Package"
   ]
  },
  {
   "cell_type": "markdown",
   "metadata": {},
   "source": [
    "The ```timeit``` package creates an envirmonent to time a function. It turns off garbage collection and caching by default."
   ]
  },
  {
   "cell_type": "markdown",
   "metadata": {},
   "source": [
    "In order to use timeit, I need to create a function with no arguments to time. The timeit function from the timeit package expects a function with no arguments."
   ]
  },
  {
   "cell_type": "code",
   "execution_count": 13,
   "metadata": {},
   "outputs": [],
   "source": [
    "# define functions with no arguments\n",
    "\n",
    "def dot_AB_array():\n",
    "    return dot(A, B)\n",
    "\n",
    "def dot_AB_list():\n",
    "    return dot(A_list, B_list)\n",
    "\n",
    "def np_dot_AB():\n",
    "    return np.dot(A,B)"
   ]
  },
  {
   "cell_type": "code",
   "execution_count": 14,
   "metadata": {},
   "outputs": [
    {
     "name": "stdout",
     "output_type": "stream",
     "text": [
      "0.24699930000000592 ms\n"
     ]
    }
   ],
   "source": [
    "# find average of 10 runs of the loop-based function\n",
    "# use numpy arrays as inputs\n",
    "\n",
    "time = timeit(dot_AB_array, number=10)\n",
    "print(\"%s ms\" % (time * 1000 / 10))"
   ]
  },
  {
   "cell_type": "code",
   "execution_count": 15,
   "metadata": {},
   "outputs": [
    {
     "name": "stdout",
     "output_type": "stream",
     "text": [
      "0.15144839999998716 ms\n"
     ]
    }
   ],
   "source": [
    "# find average of 10 runs of the loop-based function\n",
    "# use lists as inputs\n",
    "\n",
    "time = timeit(dot_AB_list, number=10)\n",
    "print(\"%s ms\" % (time * 1000 / 10))"
   ]
  },
  {
   "cell_type": "code",
   "execution_count": 16,
   "metadata": {},
   "outputs": [
    {
     "name": "stdout",
     "output_type": "stream",
     "text": [
      "0.0033956000000223696 ms\n"
     ]
    }
   ],
   "source": [
    "# find average of 10 runs of numpy's function\n",
    "\n",
    "time = timeit(np_dot_AB, number=10)\n",
    "print(\"%s ms\" % (time * 1000 / 10))"
   ]
  },
  {
   "cell_type": "markdown",
   "metadata": {},
   "source": [
    "Once again, the order of results is the same. However, this time, the result for the average time over multiple excution is closer to the result of running the one repeatedly. The caching problem from before, when I used Jupyter magic, does not apply.\n",
    "\n",
    "On my computer, the average for the three functions are about 200 μs, 140 μs and 12 μs respectivly."
   ]
  },
  {
   "cell_type": "markdown",
   "metadata": {},
   "source": [
    "## A More Through Approach with timeit"
   ]
  },
  {
   "cell_type": "markdown",
   "metadata": {},
   "source": [
    "I am interested in how the difference between the functions depends on the length of the vectors. A problem with my current approach to using ```timeit```, is that I need to define a function with no arguments to use the timer. This would require me to write a new function every time I wanted to change the arguments.\n",
    "\n",
    "An alternative is to write a timer function that takes in the function to be timed and its arguments. It then defines an equivalent function with no arguments and times it."
   ]
  },
  {
   "cell_type": "code",
   "execution_count": 17,
   "metadata": {},
   "outputs": [],
   "source": [
    "def time_function(func, *args, reps=10):\n",
    "    \n",
    "    \"\"\"\n",
    "    Passes *args into a function, func, and times it reps times, returns the average time in milliseconds (ms).\n",
    "    \"\"\"\n",
    "    \n",
    "    # define a function with no agruments to be used with timeit\n",
    "    def no_args():\n",
    "        return func(*args)\n",
    "    \n",
    "    avg_time = timeit(no_args, number=reps) / reps\n",
    "    \n",
    "    return avg_time * 1000"
   ]
  },
  {
   "cell_type": "code",
   "execution_count": 18,
   "metadata": {},
   "outputs": [
    {
     "data": {
      "text/plain": [
       "0.22568040000003897"
      ]
     },
     "execution_count": 18,
     "metadata": {},
     "output_type": "execute_result"
    }
   ],
   "source": [
    "# find average of 10 runs of the loop-based function\n",
    "# use numpy arrays as inputs\n",
    "\n",
    "time_function(dot, A, B)"
   ]
  },
  {
   "cell_type": "code",
   "execution_count": 19,
   "metadata": {},
   "outputs": [
    {
     "data": {
      "text/plain": [
       "0.17304849999999483"
      ]
     },
     "execution_count": 19,
     "metadata": {},
     "output_type": "execute_result"
    }
   ],
   "source": [
    "# find average of 10 runs of the loop-based function\n",
    "# use numpy arrays as inputs\n",
    "\n",
    "time_function(dot, A_list, B_list)"
   ]
  },
  {
   "cell_type": "code",
   "execution_count": 20,
   "metadata": {},
   "outputs": [
    {
     "data": {
      "text/plain": [
       "0.0332082999999983"
      ]
     },
     "execution_count": 20,
     "metadata": {},
     "output_type": "execute_result"
    }
   ],
   "source": [
    "# find average of 10 runs of numpy's function\n",
    "\n",
    "time_function(np.dot, A, B)"
   ]
  },
  {
   "cell_type": "markdown",
   "metadata": {},
   "source": [
    "From this I get roughly the same results as using ```timeit``` directly."
   ]
  },
  {
   "cell_type": "markdown",
   "metadata": {},
   "source": [
    "Now, I want to see how the times change as the length of the vector grows. I build a function to time the different dot product functions at different lengths. Timing the function multiple times using the same vector might produce an inaccurate result, because the dot product may be faster to compute for some vectors. I will repeat over different vectors to ensure a fair test. "
   ]
  },
  {
   "cell_type": "code",
   "execution_count": 21,
   "metadata": {},
   "outputs": [],
   "source": [
    "def time_dot_product(\n",
    "    func,\n",
    "    vector_length,\n",
    "    input_type = \"array\",\n",
    "    data_reps = 10,\n",
    "    reps = 10\n",
    "):\n",
    "    \n",
    "    \"\"\"\n",
    "    Takes func, a function that perfroms a calculation on two vectors (array-lines) and   \n",
    "    returns the times (in ms) the function takes to run on std. normal generated vectors.\n",
    "    \n",
    "    Arguments:\n",
    "    ----------\n",
    "    func (function): a function that perfroms a calculation on two vectors (array-lines)\n",
    "    vector_length (int): the length that the radom vectors should be\n",
    "    input_type (str): Vontrols the data type of the random vector. Takes values \\\"list\\\" or \\\"array\\\"\n",
    "    data_reps (int): the number of times to generate the data\n",
    "    reps (int): the number of time to run the timer for each data set\n",
    "    \"\"\"\n",
    "    \n",
    "    total_time = 0\n",
    "    \n",
    "    for i in range(0, data_reps):\n",
    "        \n",
    "        A = np.random.standard_normal(vector_length)\n",
    "        B = np.random.standard_normal(vector_length)\n",
    "        \n",
    "        if input_type == \"list\":\n",
    "            A = list(A)\n",
    "            B = list(B)\n",
    "            \n",
    "        inst_time = time_function(func, A, B, reps=reps)\n",
    "        \n",
    "        total_time += inst_time\n",
    "    \n",
    "    avg_time = total_time / data_reps\n",
    "    \n",
    "    return avg_time"
   ]
  },
  {
   "cell_type": "markdown",
   "metadata": {},
   "source": [
    "I will time each of the functions for vectors of lengths 1 to 1,000,000. For a slower computer a lower order of magnitude should be chosen. With a faster computer, it might be interesting to see how the functions perform on much longer vectors."
   ]
  },
  {
   "cell_type": "code",
   "execution_count": 22,
   "metadata": {},
   "outputs": [],
   "source": [
    "# create an array of increasing times\n",
    "\n",
    "ord_mag = 6\n",
    "lengths = [10 ** n for n in range(0, ord_mag + 1)]"
   ]
  },
  {
   "cell_type": "code",
   "execution_count": 23,
   "metadata": {},
   "outputs": [
    {
     "data": {
      "text/plain": [
       "[0.0008440499999951001,\n",
       " 0.0038863599999983123,\n",
       " 0.01763503000000277,\n",
       " 0.22386502999999447,\n",
       " 1.8144459300000058,\n",
       " 13.341632010000003,\n",
       " 131.53397841]"
      ]
     },
     "execution_count": 23,
     "metadata": {},
     "output_type": "execute_result"
    }
   ],
   "source": [
    "# time the loop-based function\n",
    "# use list as inputs\n",
    "\n",
    "loop_list_times = [time_dot_product(dot, e, \"list\") for e in lengths]\n",
    "loop_list_times"
   ]
  },
  {
   "cell_type": "code",
   "execution_count": 24,
   "metadata": {},
   "outputs": [
    {
     "data": {
      "text/plain": [
       "[0.0016031099999835874,\n",
       " 0.0035232499999793276,\n",
       " 0.024166669999985402,\n",
       " 0.22562366999999028,\n",
       " 2.1239497099999483,\n",
       " 21.74771868000004,\n",
       " 212.44076460000005]"
      ]
     },
     "execution_count": 24,
     "metadata": {},
     "output_type": "execute_result"
    }
   ],
   "source": [
    "# time the loop-based function\n",
    "# use list as inputs\n",
    "\n",
    "loop_array_times = [time_dot_product(dot, e, \"array\") for e in lengths]\n",
    "loop_array_times"
   ]
  },
  {
   "cell_type": "code",
   "execution_count": 25,
   "metadata": {},
   "outputs": [
    {
     "data": {
      "text/plain": [
       "[0.0013708000000889342,\n",
       " 0.008580489999943097,\n",
       " 0.002621590000018159,\n",
       " 0.0009459799998978724,\n",
       " 0.11384730999985493,\n",
       " 0.040855559999783964,\n",
       " 0.8441209300000452]"
      ]
     },
     "execution_count": 25,
     "metadata": {},
     "output_type": "execute_result"
    }
   ],
   "source": [
    "# time numpy\n",
    "\n",
    "np_times = [time_dot_product(np.dot, e) for e in lengths]\n",
    "np_times"
   ]
  },
  {
   "cell_type": "raw",
   "metadata": {},
   "source": [
    "The fouth element (index of 3) is the timing for a vector of length 10^3 = 1,000. These are roughly the same as the times produced earlier. Here is a plot of the times. Graphing in the linear scale and connecting the dots, it is clear that the times are is almost perfectly linear in the length of the vectors. This couldn't match the theory any better: assuming artithmetic operations are of constant time complexity, the dot product operation is of linear time complexity."
   ]
  },
  {
   "cell_type": "code",
   "execution_count": 26,
   "metadata": {},
   "outputs": [
    {
     "data": {
      "image/png": "[encoded data removed]",
      "text/plain": [
       "<Figure size 432x288 with 1 Axes>"
      ]
     },
     "metadata": {
      "needs_background": "light"
     },
     "output_type": "display_data"
    }
   ],
   "source": [
    "# plot numpy time v.s. loop time\n",
    "\n",
    "plt.plot(lengths, loop_list_times, label = \"Loop-based function with lists as inputs\")\n",
    "plt.plot(lengths, loop_array_times, label = \"Loop-based function with arrays as inputs\")\n",
    "plt.plot(lengths, np_times, label = \"Numpy's function\")\n",
    "plt.title(\"Time Comparison of Dot Product Functions\")\n",
    "plt.xlabel(\"Length of Vectors\")\n",
    "plt.ylabel(\"Average Time (ms)\")\n",
    "plt.legend()\n",
    "plt.show()"
   ]
  },
  {
   "cell_type": "markdown",
   "metadata": {},
   "source": [
    "Finally, I graph the times for numpy's dot product alone to emphasize that they too are linear in the vector's length."
   ]
  },
  {
   "cell_type": "code",
   "execution_count": 27,
   "metadata": {},
   "outputs": [
    {
     "data": {
      "image/png": "[encoded data removed]",
      "text/plain": [
       "<Figure size 432x288 with 1 Axes>"
      ]
     },
     "metadata": {
      "needs_background": "light"
     },
     "output_type": "display_data"
    }
   ],
   "source": [
    "plt.plot(lengths, np_times, label = \"Numpy's function\", c = \"C2\")\n",
    "plt.title(\"Time Comparison of Dot Product Functions\")\n",
    "plt.xlabel(\"Length of Vectors\")\n",
    "plt.ylabel(\"Average Time (ms)\")\n",
    "plt.legend()\n",
    "plt.show()"
   ]
  },
  {
   "cell_type": "markdown",
   "metadata": {},
   "source": [
    "## Conclusion"
   ]
  },
  {
   "cell_type": "markdown",
   "metadata": {},
   "source": [
    "In conculsion, one should use numpy to compute a dot product and probably for other vector operations. However, it takes signifcantly more time to iterate over a numpy array than a list. If one needs to write a loop, lists are faster."
   ]
  }
 ],
 "metadata": {
  "kernelspec": {
   "display_name": "dot-product-timing",
   "language": "python",
   "name": "dot-product-timing"
  },
  "language_info": {
   "codemirror_mode": {
    "name": "ipython",
    "version": 3
   },
   "file_extension": ".py",
   "mimetype": "text/x-python",
   "name": "python",
   "nbconvert_exporter": "python",
   "pygments_lexer": "ipython3",
   "version": "3.7.2"
  }
 },
 "nbformat": 4,
 "nbformat_minor": 2
}
